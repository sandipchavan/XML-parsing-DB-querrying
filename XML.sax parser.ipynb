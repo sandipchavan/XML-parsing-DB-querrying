{
 "cells": [
  {
   "cell_type": "code",
   "execution_count": 11,
   "metadata": {
    "collapsed": true
   },
   "outputs": [],
   "source": []
  },
  {
   "cell_type": "code",
   "execution_count": 14,
   "metadata": {},
   "outputs": [
    {
     "name": "stdout",
     "output_type": "stream",
     "text": [
      "*******Book Detail*******\n",
      "Book No: 1\n",
      "book:  python\n",
      "Title:  Think Python\n",
      "Author :  A B Downey\n",
      "Year: 2015\n",
      "Price: 300\n",
      "Price:   \n",
      "*******Book Detail*******\n",
      "Book No: 2\n",
      "book:  hadoop\n",
      "Title:  Def Guide\n",
      "Author :  Tom White\n",
      "Year: 2015\n",
      "Price: 900\n",
      "Price:   \n",
      "*******Book Detail*******\n",
      "Book No: 3\n",
      "book:  CPP\n",
      "Title:  Let us cpp\n",
      "Author :  Y Kenetkar\n",
      "Year: 2010\n",
      "Price: 349\n",
      "Price:   \n",
      "*******Book Detail*******\n",
      "Book No: 4\n",
      "book:  unix\n",
      "Title:  Design of Unix OS\n",
      "Author :  M J Bach\n",
      "Year: 2003\n",
      "Price: 839\n",
      "Price:   \n",
      "Price: \n",
      "\n"
     ]
    }
   ],
   "source": [
    "#####XML parser\n",
    "h1=open('f1.txt','a')\n",
    "h1.seek(0)\n",
    "h1.truncate()\n",
    "h1.close()\n",
    "import xml.sax \n",
    "class BookDetail(xml.sax.ContentHandler):\n",
    "    def __init__(self):\n",
    "        self.currnettag=''\n",
    "        self.title=''\n",
    "        self.author=''\n",
    "        self.price=''\n",
    "        self.no=0\n",
    "        self.cat=''\n",
    "        self.yr=''\n",
    "    def startElement(self,tag,attrs):\n",
    "        self.currnettag=tag\n",
    "        if self.currnettag==\"book\":\n",
    "            self.no+=1\n",
    "            self.cat=attrs['category']\n",
    "            print \"*******Book Detail*******\"\n",
    "            print \"Book No:\",self.no\n",
    "            print \"book: \",attrs['category']\n",
    "    #Characters method should be used for only initialization of values\n",
    "    def characters(self,contentdata):     \n",
    "        if self.currnettag==\"title\":\n",
    "            self.title=contentdata\n",
    "        if self.currnettag==\"year\":\n",
    "            self.yr=contentdata   \n",
    "        if self.currnettag=='author':\n",
    "            self.author=contentdata\n",
    "        if self.currnettag=='price':\n",
    "            self.price=contentdata\n",
    "    #for displaying values\n",
    "    def endElement(self,tag):\n",
    "        if self.currnettag==\"title\":\n",
    "            print \"Title: \",self.title\n",
    "            h1=open('f1.txt','a')\n",
    "            h1.write(\"{}. The book {} belongs to \".format(self.no,str(self.title)))\n",
    "        if self.currnettag=='author':\n",
    "            print \"Author : \",self.author\n",
    "            h1=open('f1.txt','a')\n",
    "            h1.write(\"{} category and is written by {}.\\n\".format(self.cat,str(self.author)))\n",
    "        if self.currnettag=='year':\n",
    "            print  \"Year:\",self.yr\n",
    "            h1=open('f1.txt','a')\n",
    "            h1.write(\"This book is published in the {} with a price of \".format(str(self.yr)))\n",
    "        if self.currnettag=='price':\n",
    "            print  \"Price:\",self.price   \n",
    "            h1=open('f1.txt','a')\n",
    "            h1.write(\"{}.\\n\".format(self.price))\n",
    "            \n",
    "\n",
    "        #if tag=='book':\n",
    "            #h1=open('f1.txt','a')\n",
    "            #h1.write(\"1.The book {} belongs to python category and is written by AB downy.\\nThis book is published in the year 2015 with a price of 300.\\n\".format(str(self.title)))\n",
    "            #h1.close()\n",
    "po=xml.sax.make_parser()\n",
    "po.setContentHandler(BookDetail())\n",
    "po.parse('book.xml')\n"
   ]
  },
  {
   "cell_type": "code",
   "execution_count": 65,
   "metadata": {
    "collapsed": true
   },
   "outputs": [],
   "source": [
    "h1=open('f1.txt','a')\n",
    "h1.seek(0)\n",
    "h1.truncate()"
   ]
  },
  {
   "cell_type": "code",
   "execution_count": 28,
   "metadata": {},
   "outputs": [
    {
     "name": "stdout",
     "output_type": "stream",
     "text": [
      "There were 21 elements.\n",
      "There were 8 attributes.\n",
      "---ELEMENT TYPES\n",
      "             itbooks 1\n",
      "              author 4\n",
      "               price 4\n",
      "               title 4\n",
      "                book 4\n",
      "                year 4\n",
      "---ATTRIBUTE TYPES\n",
      "            category 4\n",
      "                lang 4\n"
     ]
    }
   ],
   "source": [
    "\n",
    "import sys\n",
    "\n",
    "from xml.sax import make_parser, handler\n",
    "\n",
    "class FancyCounter(handler.ContentHandler):\n",
    "\n",
    "    def __init__(self):\n",
    "        self._elems = 0\n",
    "        self._attrs = 0\n",
    "        self._elem_types = {}\n",
    "        self._attr_types = {}\n",
    "\n",
    "    def startElement(self, name, attrs):\n",
    "        self._elems = self._elems + 1\n",
    "        self._attrs = self._attrs + len(attrs)\n",
    "        self._elem_types[name] = self._elem_types.get(name, 0) + 1\n",
    "\n",
    "        for name in attrs.keys():\n",
    "            self._attr_types[name] = self._attr_types.get(name, 0) + 1\n",
    "\n",
    "    def endDocument(self):\n",
    "        print \"There were\", self._elems, \"elements.\"\n",
    "        print \"There were\", self._attrs, \"attributes.\"\n",
    "\n",
    "        print \"---ELEMENT TYPES\"\n",
    "        for pair in  self._elem_types.items():\n",
    "            print \"%20s %d\" % pair\n",
    "\n",
    "        print \"---ATTRIBUTE TYPES\"\n",
    "        for pair in  self._attr_types.items():\n",
    "            print \"%20s %d\" % pair\n",
    "\n",
    "            \n",
    "parser = make_parser()\n",
    "parser.setContentHandler(FancyCounter())\n",
    "parser.parse(\"book.xml\")"
   ]
  },
  {
   "cell_type": "code",
   "execution_count": null,
   "metadata": {
    "collapsed": true
   },
   "outputs": [],
   "source": []
  }
 ],
 "metadata": {
  "kernelspec": {
   "display_name": "Python 2",
   "language": "python",
   "name": "python2"
  },
  "language_info": {
   "codemirror_mode": {
    "name": "ipython",
    "version": 2
   },
   "file_extension": ".py",
   "mimetype": "text/x-python",
   "name": "python",
   "nbconvert_exporter": "python",
   "pygments_lexer": "ipython2",
   "version": "2.7.13"
  }
 },
 "nbformat": 4,
 "nbformat_minor": 2
}
